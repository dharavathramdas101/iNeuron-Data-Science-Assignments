{
  "nbformat": 4,
  "nbformat_minor": 0,
  "metadata": {
    "colab": {
      "provenance": []
    },
    "kernelspec": {
      "name": "python3",
      "display_name": "Python 3"
    },
    "language_info": {
      "name": "python"
    }
  },
  "cells": [
    {
      "cell_type": "markdown",
      "source": [
        "### 1.What are Corpora?\n",
        "A corpus is a collection of text data. Corpora are used in natural language processing (NLP) to train machine learning models. Corpora can be large or small, and they can be in any language.\n",
        "\n",
        "### 2.What are Tokens?\n",
        "A token is a unit of text that is used in NLP. Tokens can be words, phrases, or even characters. Tokens are used to represent the input text to a machine learning model.\n",
        "\n",
        "### 3.What are Unigrams, Bigrams, Trigrams?\n",
        "Unigrams, bigrams, and trigrams are types of n-grams. An n-gram is a sequence of n tokens. Unigrams are n-grams with n=1, bigrams are n-grams with n=2, and trigrams are n-grams with n=3.\n",
        "\n",
        "### 4.How to generate n-grams from text?\n",
        "To generate n-grams from text, you can use a simple function. The function would take the text as input and return a list of n-grams. For example, the following function would generate bigrams from text:\n",
        "\n",
        "Code snippet\n",
        "def generate_bigrams(text):\n",
        "  \"\"\"Generates bigrams from text.\n",
        "\n",
        "  Args:\n",
        "    text: The text to generate bigrams from.\n",
        "\n",
        "  Returns:\n",
        "    A list of bigrams.\n",
        "  \"\"\"\n",
        "\n",
        "  bigrams = []\n",
        "  for i in range(len(text) - 1):\n",
        "    bigrams.append((text[i], text[i + 1]))\n",
        "\n",
        "  return bigrams\n",
        "\n",
        "### 5.Explain Lemmatization\n",
        "Lemmatization is a process of converting a word to its base form. For example, the words \"running\", \"ran\", and \"runs\" would all be lemmatized to the word \"run\". Lemmatization is important in NLP because it helps to normalize the input text. This can improve the performance of machine learning models.\n",
        "\n",
        "### 6.Explain Stemming\n",
        "Stemming is a process of converting a word to its root form. For example, the words \"running\", \"ran\", and \"runs\" would all be stemmed to the word \"run\". Stemming is simpler than lemmatization, but it is also less accurate.\n",
        "\n",
        "### 7.Explain Part-of-speech (POS) tagging\n",
        "Part-of-speech (POS) tagging is the process of assigning a part-of-speech tag to each word in a sentence. Part-of-speech tags indicate the role of each word in the sentence. For example, the word \"running\" in the sentence \"I am running\" would be tagged as a verb. POS tagging is important in NLP because it helps to understand the meaning of sentences.\n",
        "\n",
        "### 8.Explain Chunking or shallow parsing\n",
        "Chunking or shallow parsing is a process of identifying the parts of speech in a sentence and grouping them together into chunks. Chunks can be noun phrases, verb phrases, prepositional phrases, and so on. Chunking is important in NLP because it helps to identify the structure of sentences.\n",
        "\n",
        "### 9.Explain Noun Phrase (NP) chunking\n",
        "Noun phrase (NP) chunking is a type of chunking that identifies noun phrases in a sentence. Noun phrases are groups of words that act as a noun. For example, the noun phrase \"the running dog\" would be identified by NP chunking. NP chunking is important in NLP because it helps to identify the main topic of a sentence.\n",
        "\n",
        "### 10.Explain Named Entity Recognition (NER)\n",
        "Named Entity Recognition (NER) is a process of identifying named entities in a text. Named entities are words or phrases that refer to real-world entities, such as people, places, organizations, and events. For example, the word \"Bard\" in the sentence \"I am talking to Bard\" would be identified as a named entity. NER is important in NLP because it helps to identify the important information in a text."
      ],
      "metadata": {
        "id": "m971rDmPzG0u"
      }
    }
  ]
}