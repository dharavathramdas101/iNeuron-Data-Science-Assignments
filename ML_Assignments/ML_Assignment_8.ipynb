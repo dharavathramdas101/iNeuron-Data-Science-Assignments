{
  "nbformat": 4,
  "nbformat_minor": 0,
  "metadata": {
    "colab": {
      "provenance": []
    },
    "kernelspec": {
      "name": "python3",
      "display_name": "Python 3"
    },
    "language_info": {
      "name": "python"
    }
  },
  "cells": [
    {
      "cell_type": "code",
      "source": [],
      "metadata": {
        "id": "MPs0cMYZCAGP"
      },
      "execution_count": null,
      "outputs": []
    },
    {
      "cell_type": "markdown",
      "source": [
        "Questions:\n"
      ],
      "metadata": {
        "id": "p7dT6vuNIU-h"
      }
    },
    {
      "cell_type": "markdown",
      "source": [
        "1. What exactly is a feature? Give an example to illustrate your point.\n",
        "2. What are the various circumstances in which feature construction is required?\n",
        "3. Describe how nominal variables are encoded.\n",
        "\n",
        "4. Describe how numeric features are converted to categorical features.\n",
        "\n",
        "5. Describe the feature selection wrapper approach. State the advantages and disadvantages of this\n",
        "approach?\n",
        "\n",
        "6. When is a feature considered irrelevant? What can be said to quantify it?\n",
        "\n",
        "7. When is a function considered redundant? What criteria are used to identify features that could\n",
        "be redundant?\n",
        "\n",
        "8. What are the various distance measurements used to determine feature similarity?\n",
        "\n",
        "9. State difference between Euclidean and Manhattan distances?\n",
        "\n",
        "10. Distinguish between feature transformation and feature selection.\n",
        "\n",
        "11. Make brief notes on any two of the following:\n",
        "\n",
        "1.SVD (Standard Variable Diameter Diameter)\n",
        "\n",
        "2. Collection of features using a hybrid approach\n",
        "\n",
        "3. The width of the silhouette\n",
        "\n",
        "4. Receiver operating characteristic curve"
      ],
      "metadata": {
        "id": "BpOnUZaJG94T"
      }
    },
    {
      "cell_type": "markdown",
      "source": [
        "### Ans:\n"
      ],
      "metadata": {
        "id": "_Mfvqw8GIR1l"
      }
    },
    {
      "cell_type": "markdown",
      "source": [
        "1. A feature is a piece of information about an instance or observation in a dataset. Features can be either categorical or numerical. Categorical features are discrete and have a finite number of possible values, such as gender or color. Numerical features are continuous and can take on any value within a range, such as height or weight.\n",
        "For example, the feature \"color\" could be used to describe a car. The car could be red, blue, green, or black. The feature \"weight\" could be used to describe the same car. The car could weigh 2,000 pounds, 3,000 pounds, or 4,000 pounds.\n",
        "\n",
        "2. Feature construction is required in a number of circumstances, including:\n",
        "When the data is incomplete or missing.\n",
        "When the data is noisy or corrupted.\n",
        "When the data is not in a format that is suitable for machine learning.\n",
        "When the data needs to be transformed to improve its predictive power.\n",
        "For example, if a dataset contains data about customers' purchases, but the data does not include the customer's age, then feature construction could be used to create a new feature called \"age\" by using the customer's date of birth.\n",
        "\n",
        "3. Nominal variables are encoded by assigning each possible value of the variable a unique integer. For example, if the nominal variable \"color\" has three possible values (red, blue, and green), then the values could be encoded as 1, 2, and 3, respectively.\n",
        "\n",
        "4. Numeric features are converted to categorical features by binning the data into ranges. For example, if the numeric feature \"weight\" has a range of 1,000 to 5,000 pounds, then the data could be binned into three categories: light (1,000 to 2,000 pounds), medium (2,000 to 3,000 pounds), and heavy (3,000 to 5,000 pounds).\n",
        "\n",
        "5. The feature selection wrapper approach is a method of selecting features for a machine learning model by iteratively evaluating the performance of the model on a holdout set of data with different subsets of features. The subset of features that results in the best performance on the holdout set is selected for the final model.\n",
        "\n",
        "The advantages of the feature selection wrapper approach include:\n",
        "\n",
        "It can be used to select features that are most relevant to the target variable.\n",
        "It can be used to reduce the dimensionality of the data, which can improve the performance of the model.\n",
        "The disadvantages of the feature selection wrapper approach include:\n",
        "\n",
        "It can be computationally expensive.\n",
        "It can be sensitive to the choice of the holdout set.\n",
        "6. A feature is considered irrelevant when it does not provide any additional information about the target variable. A feature can be quantified as irrelevant if its correlation with the target variable is zero.\n",
        "For example, the feature \"zip code\" is likely to be irrelevant for a model that is predicting the price of a house. The zip code does not provide any additional information about the house that is not already captured by other features, such as the size of the house, the number of bedrooms, and the location of the house.\n",
        "\n",
        "7. When is a function considered redundant? What criteria are used to identify features that could be redundant?\n",
        "\n",
        "A function is considered redundant when it does not provide any additional information about the target variable that is not already captured by other features. Features that could be redundant can be identified using a number of criteria, including:\n",
        "\n",
        "Correlation: Two features are correlated if they are related to each other. If two features are highly correlated, then one of them is likely to be redundant.\n",
        "Information gain: Information gain is a measure of how much information a feature provides about the target variable. Features with low information gain are likely to be redundant.\n",
        "Importance: Feature importance is a measure of how important a feature is for predicting the target variable. Features with low importance are likely to be redundant.\n",
        "8. What are the various distance measurements used to determine feature similarity?\n",
        "\n",
        "There are a number of distance measurements that can be used to determine feature similarity, including:\n",
        "\n",
        "Euclidean distance: Euclidean distance is the most common distance measurement. It is calculated by taking the square root of the sum of the squared differences between the values of the features.\n",
        "Manhattan distance: Manhattan distance is another common distance measurement. It is calculated by taking the sum of the absolute differences between the values of the features.\n",
        "Minkowski distance: Minkowski distance is a generalization of Euclidean and Manhattan distance. It is calculated by taking the p-th root of the sum of the p-th powers of the squared differences between the values of the features.\n",
        "9. State difference between Euclidean and Manhattan distances?\n",
        "\n",
        "The main difference between Euclidean and Manhattan distances is that Euclidean distance takes into account the square of the differences between the values of the features, while Manhattan distance only takes into account the absolute difference between the values of the features. This means that Euclidean distance is more sensitive to outliers than Manhattan distance.\n",
        "\n",
        "10. Distinguish between feature transformation and feature selection.\n",
        "\n",
        "Feature transformation and feature selection are two different techniques that can be used to improve the performance of machine learning models.\n",
        "\n",
        "Feature transformation is a technique that changes the scale or format of the features in a dataset. This can be done to improve the accuracy of the model or to make the features more interpretable. Some common feature transformations include normalization, standardization, and feature extraction.\n",
        "\n",
        "Feature selection is a technique that selects a subset of features from a dataset. This can be done to improve the accuracy of the model or to reduce the computational cost of training the model. Some common feature selection techniques include filter methods, wrapper methods, and embedded methods.\n",
        "\n",
        "11. Make brief notes on any two of the following:\n",
        "\n",
        "SVD (Standard Variable Diameter Diameter)\n",
        "\n",
        "Singular value decomposition (SVD) is a matrix factorization technique that can be used to reduce the dimensionality of a dataset. SVD decomposes a matrix into three matrices: a diagonal matrix of singular values, a matrix of left singular vectors, and a matrix of right singular vectors. The singular values can be used to select a subset of features that capture the most important information in the dataset.\n",
        "\n",
        "Collection of features using a hybrid approach\n",
        "\n",
        "A hybrid approach to feature collection is a method of collecting features that combines both supervised and unsupervised learning techniques. Supervised learning techniques are used to identify features that are related to the target variable, while unsupervised learning techniques are used to identify features that are correlated with each other.\n",
        "\n",
        "The width of the silhouette\n",
        "\n",
        "The width of the silhouette is a measure of how well a data point is clustered. A high silhouette width indicates that the data point is well-clustered. The width of the silhouette is calculated by taking the average of the difference between the distance of a data point to the centroid of its cluster and the distance of the data point to the nearest centroid of any other cluster.\n",
        "\n",
        "Receiver operating characteristic curve\n",
        "\n",
        "The receiver operating characteristic (ROC) curve is a graphical plot that shows the performance of a binary classifier as its decision threshold is varied. The ROC curve plots the true positive rate (TPR) against the false positive rate (FPR). The TPR is the proportion of positive instances that are correctly classified, while the FPR is the proportion of negative instances that are incorrectly classified. The ROC curve is a useful tool for evaluating the performance of a binary classifier and for comparing the performance of different classifiers.\n",
        "\n"
      ],
      "metadata": {
        "id": "mhqHm7Z2HAUD"
      }
    }
  ]
}